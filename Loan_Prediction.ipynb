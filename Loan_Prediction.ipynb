{
 "cells": [
  {
   "cell_type": "markdown",
   "id": "60ce7206",
   "metadata": {},
   "source": [
    "# Predict Loan Eligibility for Dream Housing Finance company"
   ]
  },
  {
   "cell_type": "markdown",
   "id": "70952b94",
   "metadata": {},
   "source": [
    "Dream Housing Finance company deals in all kinds of home loans. They have presence across all urban, semi urban and rural areas. Customer first applies for home loan and after that company validates the customer eligibility for loan.\n",
    "\n",
    "Company wants to automate the loan eligibility process (real time) based on customer detail provided while filling online application form. These details are Gender, Marital Status, Education, Number of Dependents, Income, Loan Amount, Credit History and others. To automate this process, they have provided a dataset to identify the customers segments that are eligible for loan amount so that they can specifically target these customers. "
   ]
  },
  {
   "cell_type": "code",
   "execution_count": 281,
   "id": "27e081e6",
   "metadata": {},
   "outputs": [],
   "source": [
    "import pandas as pd\n",
    "import numpy as np\n",
    "import seaborn as sns\n",
    "import matplotlib.pyplot as plt\n",
    "%matplotlib inline\n",
    "import warnings\n",
    "warnings.filterwarnings(\"ignore\")"
   ]
  },
  {
   "cell_type": "code",
   "execution_count": 282,
   "id": "b1842f0c",
   "metadata": {},
   "outputs": [],
   "source": [
    "pd_train=pd.read_csv('D:\\\\Hackathon\\\\Loan Prediction\\\\train_loan.csv')\n",
    "pd_test=pd.read_csv('D:\\\\Hackathon\\\\Loan Prediction\\\\test_loan.csv')"
   ]
  },
  {
   "cell_type": "code",
   "execution_count": 283,
   "id": "bc033bc9",
   "metadata": {},
   "outputs": [
    {
     "data": {
      "text/html": [
       "<div>\n",
       "<style scoped>\n",
       "    .dataframe tbody tr th:only-of-type {\n",
       "        vertical-align: middle;\n",
       "    }\n",
       "\n",
       "    .dataframe tbody tr th {\n",
       "        vertical-align: top;\n",
       "    }\n",
       "\n",
       "    .dataframe thead th {\n",
       "        text-align: right;\n",
       "    }\n",
       "</style>\n",
       "<table border=\"1\" class=\"dataframe\">\n",
       "  <thead>\n",
       "    <tr style=\"text-align: right;\">\n",
       "      <th></th>\n",
       "      <th>Loan_ID</th>\n",
       "      <th>Gender</th>\n",
       "      <th>Married</th>\n",
       "      <th>Dependents</th>\n",
       "      <th>Education</th>\n",
       "      <th>Self_Employed</th>\n",
       "      <th>ApplicantIncome</th>\n",
       "      <th>CoapplicantIncome</th>\n",
       "      <th>LoanAmount</th>\n",
       "      <th>Loan_Amount_Term</th>\n",
       "      <th>Credit_History</th>\n",
       "      <th>Property_Area</th>\n",
       "      <th>Loan_Status</th>\n",
       "    </tr>\n",
       "  </thead>\n",
       "  <tbody>\n",
       "    <tr>\n",
       "      <th>0</th>\n",
       "      <td>LP001002</td>\n",
       "      <td>Male</td>\n",
       "      <td>No</td>\n",
       "      <td>0</td>\n",
       "      <td>Graduate</td>\n",
       "      <td>No</td>\n",
       "      <td>5849</td>\n",
       "      <td>0.0</td>\n",
       "      <td>NaN</td>\n",
       "      <td>360.0</td>\n",
       "      <td>1.0</td>\n",
       "      <td>Urban</td>\n",
       "      <td>Y</td>\n",
       "    </tr>\n",
       "    <tr>\n",
       "      <th>1</th>\n",
       "      <td>LP001003</td>\n",
       "      <td>Male</td>\n",
       "      <td>Yes</td>\n",
       "      <td>1</td>\n",
       "      <td>Graduate</td>\n",
       "      <td>No</td>\n",
       "      <td>4583</td>\n",
       "      <td>1508.0</td>\n",
       "      <td>128.0</td>\n",
       "      <td>360.0</td>\n",
       "      <td>1.0</td>\n",
       "      <td>Rural</td>\n",
       "      <td>N</td>\n",
       "    </tr>\n",
       "    <tr>\n",
       "      <th>2</th>\n",
       "      <td>LP001005</td>\n",
       "      <td>Male</td>\n",
       "      <td>Yes</td>\n",
       "      <td>0</td>\n",
       "      <td>Graduate</td>\n",
       "      <td>Yes</td>\n",
       "      <td>3000</td>\n",
       "      <td>0.0</td>\n",
       "      <td>66.0</td>\n",
       "      <td>360.0</td>\n",
       "      <td>1.0</td>\n",
       "      <td>Urban</td>\n",
       "      <td>Y</td>\n",
       "    </tr>\n",
       "    <tr>\n",
       "      <th>3</th>\n",
       "      <td>LP001006</td>\n",
       "      <td>Male</td>\n",
       "      <td>Yes</td>\n",
       "      <td>0</td>\n",
       "      <td>Not Graduate</td>\n",
       "      <td>No</td>\n",
       "      <td>2583</td>\n",
       "      <td>2358.0</td>\n",
       "      <td>120.0</td>\n",
       "      <td>360.0</td>\n",
       "      <td>1.0</td>\n",
       "      <td>Urban</td>\n",
       "      <td>Y</td>\n",
       "    </tr>\n",
       "    <tr>\n",
       "      <th>4</th>\n",
       "      <td>LP001008</td>\n",
       "      <td>Male</td>\n",
       "      <td>No</td>\n",
       "      <td>0</td>\n",
       "      <td>Graduate</td>\n",
       "      <td>No</td>\n",
       "      <td>6000</td>\n",
       "      <td>0.0</td>\n",
       "      <td>141.0</td>\n",
       "      <td>360.0</td>\n",
       "      <td>1.0</td>\n",
       "      <td>Urban</td>\n",
       "      <td>Y</td>\n",
       "    </tr>\n",
       "  </tbody>\n",
       "</table>\n",
       "</div>"
      ],
      "text/plain": [
       "    Loan_ID Gender Married Dependents     Education Self_Employed  \\\n",
       "0  LP001002   Male      No          0      Graduate            No   \n",
       "1  LP001003   Male     Yes          1      Graduate            No   \n",
       "2  LP001005   Male     Yes          0      Graduate           Yes   \n",
       "3  LP001006   Male     Yes          0  Not Graduate            No   \n",
       "4  LP001008   Male      No          0      Graduate            No   \n",
       "\n",
       "   ApplicantIncome  CoapplicantIncome  LoanAmount  Loan_Amount_Term  \\\n",
       "0             5849                0.0         NaN             360.0   \n",
       "1             4583             1508.0       128.0             360.0   \n",
       "2             3000                0.0        66.0             360.0   \n",
       "3             2583             2358.0       120.0             360.0   \n",
       "4             6000                0.0       141.0             360.0   \n",
       "\n",
       "   Credit_History Property_Area Loan_Status  \n",
       "0             1.0         Urban           Y  \n",
       "1             1.0         Rural           N  \n",
       "2             1.0         Urban           Y  \n",
       "3             1.0         Urban           Y  \n",
       "4             1.0         Urban           Y  "
      ]
     },
     "execution_count": 283,
     "metadata": {},
     "output_type": "execute_result"
    }
   ],
   "source": [
    "pd_train.head()"
   ]
  },
  {
   "cell_type": "markdown",
   "id": "d1a57eb7",
   "metadata": {},
   "source": [
    "#Checking Unique values for each columns"
   ]
  },
  {
   "cell_type": "code",
   "execution_count": 284,
   "id": "13a1284b",
   "metadata": {},
   "outputs": [
    {
     "data": {
      "text/plain": [
       "((614, 13), (367, 12))"
      ]
     },
     "execution_count": 284,
     "metadata": {},
     "output_type": "execute_result"
    }
   ],
   "source": [
    "pd_train.shape, pd_test.shape"
   ]
  },
  {
   "cell_type": "code",
   "execution_count": 285,
   "id": "bf069619",
   "metadata": {},
   "outputs": [
    {
     "data": {
      "text/plain": [
       "(Index(['Loan_ID', 'Gender', 'Married', 'Dependents', 'Education',\n",
       "        'Self_Employed', 'ApplicantIncome', 'CoapplicantIncome', 'LoanAmount',\n",
       "        'Loan_Amount_Term', 'Credit_History', 'Property_Area', 'Loan_Status'],\n",
       "       dtype='object'),\n",
       " Index(['Loan_ID', 'Gender', 'Married', 'Dependents', 'Education',\n",
       "        'Self_Employed', 'ApplicantIncome', 'CoapplicantIncome', 'LoanAmount',\n",
       "        'Loan_Amount_Term', 'Credit_History', 'Property_Area'],\n",
       "       dtype='object'))"
      ]
     },
     "execution_count": 285,
     "metadata": {},
     "output_type": "execute_result"
    }
   ],
   "source": [
    "pd_train.columns, pd_test.columns"
   ]
  },
  {
   "cell_type": "code",
   "execution_count": 286,
   "id": "d4e9f51d",
   "metadata": {},
   "outputs": [
    {
     "data": {
      "text/plain": [
       "(Loan_ID               object\n",
       " Gender                object\n",
       " Married               object\n",
       " Dependents            object\n",
       " Education             object\n",
       " Self_Employed         object\n",
       " ApplicantIncome        int64\n",
       " CoapplicantIncome    float64\n",
       " LoanAmount           float64\n",
       " Loan_Amount_Term     float64\n",
       " Credit_History       float64\n",
       " Property_Area         object\n",
       " Loan_Status           object\n",
       " dtype: object,\n",
       " Loan_ID               object\n",
       " Gender                object\n",
       " Married               object\n",
       " Dependents            object\n",
       " Education             object\n",
       " Self_Employed         object\n",
       " ApplicantIncome        int64\n",
       " CoapplicantIncome      int64\n",
       " LoanAmount           float64\n",
       " Loan_Amount_Term     float64\n",
       " Credit_History       float64\n",
       " Property_Area         object\n",
       " dtype: object)"
      ]
     },
     "execution_count": 286,
     "metadata": {},
     "output_type": "execute_result"
    }
   ],
   "source": [
    "pd_train.dtypes, pd_test.dtypes"
   ]
  },
  {
   "cell_type": "code",
   "execution_count": 287,
   "id": "20189a02",
   "metadata": {},
   "outputs": [
    {
     "data": {
      "text/plain": [
       "(Loan_ID              614\n",
       " Gender                 2\n",
       " Married                2\n",
       " Dependents             4\n",
       " Education              2\n",
       " Self_Employed          2\n",
       " ApplicantIncome      505\n",
       " CoapplicantIncome    287\n",
       " LoanAmount           203\n",
       " Loan_Amount_Term      10\n",
       " Credit_History         2\n",
       " Property_Area          3\n",
       " Loan_Status            2\n",
       " dtype: int64,\n",
       " Loan_ID              367\n",
       " Gender                 2\n",
       " Married                2\n",
       " Dependents             4\n",
       " Education              2\n",
       " Self_Employed          2\n",
       " ApplicantIncome      314\n",
       " CoapplicantIncome    194\n",
       " LoanAmount           144\n",
       " Loan_Amount_Term      12\n",
       " Credit_History         2\n",
       " Property_Area          3\n",
       " dtype: int64)"
      ]
     },
     "execution_count": 287,
     "metadata": {},
     "output_type": "execute_result"
    }
   ],
   "source": [
    "pd_train.nunique(),pd_test.nunique()"
   ]
  },
  {
   "cell_type": "code",
   "execution_count": 288,
   "id": "e75819ce",
   "metadata": {},
   "outputs": [
    {
     "data": {
      "text/plain": [
       "(Y    422\n",
       " N    192\n",
       " Name: Loan_Status, dtype: int64,\n",
       " Y    0.687296\n",
       " N    0.312704\n",
       " Name: Loan_Status, dtype: float64,\n",
       " <AxesSubplot:>)"
      ]
     },
     "execution_count": 288,
     "metadata": {},
     "output_type": "execute_result"
    },
    {
     "data": {
      "image/png": "[encoded data removed]",
      "text/plain": [
       "<Figure size 432x288 with 1 Axes>"
      ]
     },
     "metadata": {
      "needs_background": "light"
     },
     "output_type": "display_data"
    }
   ],
   "source": [
    "pd_train['Loan_Status'].value_counts(),pd_train['Loan_Status'].value_counts(normalize=True),pd_train['Loan_Status'].value_counts().plot.bar()"
   ]
  },
  {
   "cell_type": "code",
   "execution_count": 289,
   "id": "6a876170",
   "metadata": {},
   "outputs": [
    {
     "data": {
      "text/plain": [
       "<AxesSubplot:title={'center':'Credit_History'}>"
      ]
     },
     "execution_count": 289,
     "metadata": {},
     "output_type": "execute_result"
    },
    {
     "data": {
      "image/png": "[encoded data removed]",
      "text/plain": [
       "<Figure size 1440x720 with 4 Axes>"
      ]
     },
     "metadata": {
      "needs_background": "light"
     },
     "output_type": "display_data"
    }
   ],
   "source": [
    "\n",
    "plt.figure(1) \n",
    "plt.subplot(221)\n",
    "pd_train['Gender'].value_counts(normalize=True).plot.bar(figsize=(20,10),title='Gender')\n",
    "plt.subplot(222)\n",
    "pd_train['Married'].value_counts(normalize=True).plot.bar(figsize=(20,10),title='Married')\n",
    "plt.subplot(223)\n",
    "pd_train['Self_Employed'].value_counts(normalize=True).plot.bar(figsize=(20,10),title='Self_Employed')\n",
    "plt.subplot(224)\n",
    "pd_train['Credit_History'].value_counts(normalize=True).plot.bar(figsize=(20,10),title='Credit_History')"
   ]
  },
  {
   "cell_type": "code",
   "execution_count": 290,
   "id": "831c6a81",
   "metadata": {},
   "outputs": [
    {
     "data": {
      "image/png": "[encoded data removed]",
      "text/plain": [
       "<Figure size 1728x432 with 3 Axes>"
      ]
     },
     "metadata": {
      "needs_background": "light"
     },
     "output_type": "display_data"
    }
   ],
   "source": [
    "\n",
    "plt.figure(1) \n",
    "plt.subplot(131)\n",
    "pd_train['Dependents'].value_counts(normalize=True).plot.bar(figsize=(24,6),title='Dependents')\n",
    "plt.subplot(132)\n",
    "pd_train['Education'].value_counts(normalize=True).plot.bar(figsize=(24,6),title='Education')\n",
    "plt.subplot(133)\n",
    "pd_train['Property_Area'].value_counts(normalize=True).plot.bar(figsize=(24,6),title='Property_Area')\n",
    "plt.show()"
   ]
  },
  {
   "cell_type": "code",
   "execution_count": 291,
   "id": "f11bcfce",
   "metadata": {},
   "outputs": [
    {
     "data": {
      "image/png": "[encoded data removed]",
      "text/plain": [
       "<Figure size 1152x360 with 2 Axes>"
      ]
     },
     "metadata": {
      "needs_background": "light"
     },
     "output_type": "display_data"
    }
   ],
   "source": [
    "plt.figure(1) \n",
    "plt.subplot(121)\n",
    "sns.distplot(pd_train['ApplicantIncome']);\n",
    "plt.subplot(122)\n",
    "pd_train['ApplicantIncome'].plot.box(figsize=(16,5))\n",
    "plt.show()"
   ]
  },
  {
   "cell_type": "code",
   "execution_count": 292,
   "id": "80c33849",
   "metadata": {},
   "outputs": [
    {
     "data": {
      "text/plain": [
       "Text(0.5, 0.98, '')"
      ]
     },
     "execution_count": 292,
     "metadata": {},
     "output_type": "execute_result"
    },
    {
     "data": {
      "image/png": "[encoded data removed]",
      "text/plain": [
       "<Figure size 432x288 with 1 Axes>"
      ]
     },
     "metadata": {
      "needs_background": "light"
     },
     "output_type": "display_data"
    }
   ],
   "source": [
    "pd_train.boxplot(column='ApplicantIncome', by ='Education') \n",
    "plt.suptitle('')"
   ]
  },
  {
   "cell_type": "code",
   "execution_count": 293,
   "id": "3c12d439",
   "metadata": {},
   "outputs": [
    {
     "data": {
      "image/png": "[encoded data removed]",
      "text/plain": [
       "<Figure size 1152x360 with 2 Axes>"
      ]
     },
     "metadata": {
      "needs_background": "light"
     },
     "output_type": "display_data"
    }
   ],
   "source": [
    "plt.figure(1) \n",
    "plt.subplot(121)\n",
    "sns.distplot(pd_train['LoanAmount']);\n",
    "plt.subplot(122)\n",
    "pd_train['LoanAmount'].plot.box(figsize=(16,5))\n",
    "plt.show()"
   ]
  },
  {
   "cell_type": "code",
   "execution_count": null,
   "id": "31474d73",
   "metadata": {},
   "outputs": [],
   "source": []
  },
  {
   "cell_type": "code",
   "execution_count": 294,
   "id": "abcb293d",
   "metadata": {},
   "outputs": [
    {
     "data": {
      "text/plain": [
       "<AxesSubplot:xlabel='Self_Employed'>"
      ]
     },
     "execution_count": 294,
     "metadata": {},
     "output_type": "execute_result"
    },
    {
     "data": {
      "image/png": "[encoded data removed]",
      "text/plain": [
       "<Figure size 288x288 with 1 Axes>"
      ]
     },
     "metadata": {
      "needs_background": "light"
     },
     "output_type": "display_data"
    },
    {
     "data": {
      "image/png": "[encoded data removed]",
      "text/plain": [
       "<Figure size 288x288 with 1 Axes>"
      ]
     },
     "metadata": {
      "needs_background": "light"
     },
     "output_type": "display_data"
    },
    {
     "data": {
      "image/png": "[encoded data removed]",
      "text/plain": [
       "<Figure size 288x288 with 1 Axes>"
      ]
     },
     "metadata": {
      "needs_background": "light"
     },
     "output_type": "display_data"
    },
    {
     "data": {
      "image/png": "[encoded data removed]",
      "text/plain": [
       "<Figure size 288x288 with 1 Axes>"
      ]
     },
     "metadata": {
      "needs_background": "light"
     },
     "output_type": "display_data"
    },
    {
     "data": {
      "image/png": "[encoded data removed]",
      "text/plain": [
       "<Figure size 288x288 with 1 Axes>"
      ]
     },
     "metadata": {
      "needs_background": "light"
     },
     "output_type": "display_data"
    }
   ],
   "source": [
    "Gender=pd.crosstab(pd_train['Gender'],pd_train['Loan_Status'])\n",
    "Married=pd.crosstab(pd_train['Married'],pd_train['Loan_Status'])\n",
    "Dependents=pd.crosstab(pd_train['Dependents'],pd_train['Loan_Status'])\n",
    "Education=pd.crosstab(pd_train['Education'],pd_train['Loan_Status'])\n",
    "self_Employed=pd.crosstab(pd_train['Self_Employed'],pd_train['Loan_Status'])\n",
    "\n",
    "\n",
    "\n",
    "Gender.div(Gender.sum(1).astype(float),axis=0).plot(kind=\"bar\",stacked=True,figsize=(4,4))\n",
    "Married.div(Married.sum(1).astype(float),axis=0).plot(kind=\"bar\",stacked=True,figsize=(4,4))\n",
    "Dependents.div(Dependents.sum(1).astype(float),axis=0).plot(kind=\"bar\",stacked=True,figsize=(4,4))\n",
    "Education.div(Education.sum(1).astype(float),axis=0).plot(kind=\"bar\",stacked=True,figsize=(4,4))\n",
    "self_Employed.div(self_Employed.sum(1).astype(float),axis=0).plot(kind=\"bar\",stacked=True,figsize=(4,4))\n"
   ]
  },
  {
   "cell_type": "code",
   "execution_count": 295,
   "id": "61a46ee4",
   "metadata": {},
   "outputs": [
    {
     "data": {
      "text/plain": [
       "<AxesSubplot:xlabel='Property_Area'>"
      ]
     },
     "execution_count": 295,
     "metadata": {},
     "output_type": "execute_result"
    },
    {
     "data": {
      "image/png": "[encoded data removed]",
      "text/plain": [
       "<Figure size 288x288 with 1 Axes>"
      ]
     },
     "metadata": {
      "needs_background": "light"
     },
     "output_type": "display_data"
    },
    {
     "data": {
      "image/png": "[encoded data removed]",
      "text/plain": [
       "<Figure size 288x288 with 1 Axes>"
      ]
     },
     "metadata": {
      "needs_background": "light"
     },
     "output_type": "display_data"
    }
   ],
   "source": [
    "Credit_History=pd.crosstab(pd_train['Credit_History'],pd_train['Loan_Status'])\n",
    "Property_Area=pd.crosstab(pd_train['Property_Area'],pd_train['Loan_Status'])\n",
    "\n",
    "\n",
    "Credit_History.div(Credit_History.sum(1).astype(float),axis=0).plot(kind=\"bar\",stacked=True,figsize=(4,4))\n",
    "Property_Area.div(Property_Area.sum(1).astype(float),axis=0).plot(kind=\"bar\",stacked=True,figsize=(4,4))\n"
   ]
  },
  {
   "cell_type": "code",
   "execution_count": 296,
   "id": "5624b0c8",
   "metadata": {},
   "outputs": [
    {
     "data": {
      "text/plain": [
       "<AxesSubplot:xlabel='Loan_Status'>"
      ]
     },
     "execution_count": 296,
     "metadata": {},
     "output_type": "execute_result"
    },
    {
     "data": {
      "image/png": "[encoded data removed]",
      "text/plain": [
       "<Figure size 432x288 with 1 Axes>"
      ]
     },
     "metadata": {
      "needs_background": "light"
     },
     "output_type": "display_data"
    }
   ],
   "source": [
    "pd_train.groupby('Loan_Status')['ApplicantIncome'].mean().plot.bar()"
   ]
  },
  {
   "cell_type": "code",
   "execution_count": 297,
   "id": "79964600",
   "metadata": {},
   "outputs": [
    {
     "data": {
      "text/plain": [
       "<AxesSubplot:xlabel='Income_bin'>"
      ]
     },
     "execution_count": 297,
     "metadata": {},
     "output_type": "execute_result"
    },
    {
     "data": {
      "image/png": "[encoded data removed]",
      "text/plain": [
       "<Figure size 288x288 with 1 Axes>"
      ]
     },
     "metadata": {
      "needs_background": "light"
     },
     "output_type": "display_data"
    }
   ],
   "source": [
    "bins=[0,2500,4000,6000,81000] \n",
    "group=['Low','Average','High','Very High']\n",
    "pd_train['Income_bin']=pd.cut(pd_train['ApplicantIncome'],bins,labels=group)\n",
    "Income_bin=pd.crosstab(pd_train['Income_bin'],pd_train['Loan_Status'])\n",
    "Income_bin.div(Income_bin.sum(1).astype(float),axis=0).plot(kind=\"bar\",stacked=True,figsize=(4,4))\n"
   ]
  },
  {
   "cell_type": "code",
   "execution_count": 298,
   "id": "4dc79ea3",
   "metadata": {},
   "outputs": [
    {
     "data": {
      "text/plain": [
       "<AxesSubplot:xlabel='Coapplicant_Income_bin'>"
      ]
     },
     "execution_count": 298,
     "metadata": {},
     "output_type": "execute_result"
    },
    {
     "data": {
      "image/png": "[encoded data removed]",
      "text/plain": [
       "<Figure size 288x288 with 1 Axes>"
      ]
     },
     "metadata": {
      "needs_background": "light"
     },
     "output_type": "display_data"
    }
   ],
   "source": [
    "bins=[0,1000,3000,42000] \n",
    "group=['Low','Average','High']\n",
    "pd_train['Coapplicant_Income_bin']=pd.cut(pd_train['CoapplicantIncome'],bins,labels=group)\n",
    "Income_bin=pd.crosstab(pd_train['Coapplicant_Income_bin'],pd_train['Loan_Status'])\n",
    "Income_bin.div(Income_bin.sum(1).astype(float),axis=0).plot(kind=\"bar\",stacked=True,figsize=(4,4))\n"
   ]
  },
  {
   "cell_type": "code",
   "execution_count": 299,
   "id": "4ce816ae",
   "metadata": {},
   "outputs": [
    {
     "data": {
      "text/plain": [
       "<AxesSubplot:xlabel='LoanAmount_bin'>"
      ]
     },
     "execution_count": 299,
     "metadata": {},
     "output_type": "execute_result"
    },
    {
     "data": {
      "image/png": "[encoded data removed]",
      "text/plain": [
       "<Figure size 288x288 with 1 Axes>"
      ]
     },
     "metadata": {
      "needs_background": "light"
     },
     "output_type": "display_data"
    }
   ],
   "source": [
    "bins=[0,100,200,700] \n",
    "group=['Low','Average','High']\n",
    "pd_train['LoanAmount_bin']=pd.cut(pd_train['LoanAmount'],bins,labels=group)\n",
    "Income_bin=pd.crosstab(pd_train['LoanAmount_bin'],pd_train['Loan_Status'])\n",
    "Income_bin.div(Income_bin.sum(1).astype(float),axis=0).plot(kind=\"bar\",stacked=True,figsize=(4,4))\n"
   ]
  },
  {
   "cell_type": "code",
   "execution_count": 300,
   "id": "8958b3a5",
   "metadata": {},
   "outputs": [],
   "source": [
    "pd_train=pd_train.drop(['Income_bin','Coapplicant_Income_bin','LoanAmount_bin'],axis=1)"
   ]
  },
  {
   "cell_type": "code",
   "execution_count": 301,
   "id": "0a90f338",
   "metadata": {},
   "outputs": [],
   "source": [
    "pd_train['Dependents'].replace('3+',3,inplace=True)\n",
    "pd_test['Dependents'].replace('3+',3,inplace=True)\n",
    "pd_train['Loan_Status'].replace('Y',1,inplace=True)\n",
    "pd_train['Loan_Status'].replace('N',0,inplace=True)"
   ]
  },
  {
   "cell_type": "code",
   "execution_count": 302,
   "id": "117e4dbd",
   "metadata": {},
   "outputs": [
    {
     "data": {
      "text/plain": [
       "<AxesSubplot:>"
      ]
     },
     "execution_count": 302,
     "metadata": {},
     "output_type": "execute_result"
    },
    {
     "data": {
      "image/png": "[encoded data removed]",
      "text/plain": [
       "<Figure size 648x432 with 2 Axes>"
      ]
     },
     "metadata": {
      "needs_background": "light"
     },
     "output_type": "display_data"
    }
   ],
   "source": [
    "matrix=pd_train.corr() \n",
    "ax=plt.subplots(figsize=(9,6))\n",
    "sns.heatmap(matrix,vmax=.8,square=True,cmap='BuPu')"
   ]
  },
  {
   "cell_type": "code",
   "execution_count": 303,
   "id": "3bc0d409",
   "metadata": {},
   "outputs": [
    {
     "data": {
      "text/plain": [
       "Loan_ID               0\n",
       "Gender               13\n",
       "Married               3\n",
       "Dependents           15\n",
       "Education             0\n",
       "Self_Employed        32\n",
       "ApplicantIncome       0\n",
       "CoapplicantIncome     0\n",
       "LoanAmount           22\n",
       "Loan_Amount_Term     14\n",
       "Credit_History       50\n",
       "Property_Area         0\n",
       "Loan_Status           0\n",
       "dtype: int64"
      ]
     },
     "execution_count": 303,
     "metadata": {},
     "output_type": "execute_result"
    }
   ],
   "source": [
    "pd_train.isnull().sum()"
   ]
  },
  {
   "cell_type": "markdown",
   "id": "c87b6562",
   "metadata": {},
   "source": [
    "# Imputation of null data by MODE and Median for categorical value"
   ]
  },
  {
   "cell_type": "code",
   "execution_count": 304,
   "id": "073e299e",
   "metadata": {},
   "outputs": [],
   "source": [
    "pd_train['Gender'].fillna(pd_train['Gender'].mode()[0],inplace=True)\n",
    "pd_train['Married'].fillna(pd_train['Married'].mode()[0],inplace=True)\n",
    "pd_train['Dependents'].fillna(pd_train['Dependents'].mode()[0],inplace=True)\n",
    "pd_train['Self_Employed'].fillna(pd_train['Self_Employed'].mode()[0],inplace=True)\n",
    "pd_train['Credit_History'].fillna(pd_train['Credit_History'].mode()[0],inplace=True)"
   ]
  },
  {
   "cell_type": "code",
   "execution_count": 305,
   "id": "68800dbb",
   "metadata": {},
   "outputs": [
    {
     "data": {
      "text/plain": [
       "360.0    512\n",
       "180.0     44\n",
       "480.0     15\n",
       "300.0     13\n",
       "240.0      4\n",
       "84.0       4\n",
       "120.0      3\n",
       "60.0       2\n",
       "36.0       2\n",
       "12.0       1\n",
       "Name: Loan_Amount_Term, dtype: int64"
      ]
     },
     "execution_count": 305,
     "metadata": {},
     "output_type": "execute_result"
    }
   ],
   "source": [
    "pd_train['Loan_Amount_Term'].value_counts()"
   ]
  },
  {
   "cell_type": "code",
   "execution_count": 306,
   "id": "f3a7e2a4",
   "metadata": {},
   "outputs": [],
   "source": [
    "pd_train['Loan_Amount_Term'].fillna(pd_train['Loan_Amount_Term'].mode()[0],inplace=True)"
   ]
  },
  {
   "cell_type": "code",
   "execution_count": 307,
   "id": "bfd6b07f",
   "metadata": {},
   "outputs": [],
   "source": [
    "pd_train['LoanAmount'].fillna(pd_train['LoanAmount'].median(),inplace=True)"
   ]
  },
  {
   "cell_type": "code",
   "execution_count": 308,
   "id": "515ec3e6",
   "metadata": {},
   "outputs": [
    {
     "data": {
      "text/plain": [
       "Loan_ID              0\n",
       "Gender               0\n",
       "Married              0\n",
       "Dependents           0\n",
       "Education            0\n",
       "Self_Employed        0\n",
       "ApplicantIncome      0\n",
       "CoapplicantIncome    0\n",
       "LoanAmount           0\n",
       "Loan_Amount_Term     0\n",
       "Credit_History       0\n",
       "Property_Area        0\n",
       "Loan_Status          0\n",
       "dtype: int64"
      ]
     },
     "execution_count": 308,
     "metadata": {},
     "output_type": "execute_result"
    }
   ],
   "source": [
    "pd_train.isnull().sum()"
   ]
  },
  {
   "cell_type": "code",
   "execution_count": 309,
   "id": "6c783df6",
   "metadata": {},
   "outputs": [
    {
     "data": {
      "text/plain": [
       "Loan_ID               0\n",
       "Gender               11\n",
       "Married               0\n",
       "Dependents           10\n",
       "Education             0\n",
       "Self_Employed        23\n",
       "ApplicantIncome       0\n",
       "CoapplicantIncome     0\n",
       "LoanAmount            5\n",
       "Loan_Amount_Term      6\n",
       "Credit_History       29\n",
       "Property_Area         0\n",
       "dtype: int64"
      ]
     },
     "execution_count": 309,
     "metadata": {},
     "output_type": "execute_result"
    }
   ],
   "source": [
    "pd_test.isnull().sum()"
   ]
  },
  {
   "cell_type": "code",
   "execution_count": 310,
   "id": "70190981",
   "metadata": {},
   "outputs": [],
   "source": [
    "pd_test['Gender'].fillna(pd_test['Gender'].mode()[0],inplace=True)\n",
    "pd_test['Dependents'].fillna(pd_test['Dependents'].mode()[0],inplace=True)\n",
    "pd_test['Self_Employed'].fillna(pd_test['Self_Employed'].mode()[0],inplace=True)\n",
    "pd_test['Credit_History'].fillna(pd_test['Credit_History'].mode()[0],inplace=True)\n",
    "pd_test['Loan_Amount_Term'].fillna(pd_test['Loan_Amount_Term'].mode()[0],inplace=True)\n",
    "pd_test['LoanAmount'].fillna(pd_test['LoanAmount'].median(),inplace=True)"
   ]
  },
  {
   "cell_type": "code",
   "execution_count": 311,
   "id": "faa18037",
   "metadata": {},
   "outputs": [
    {
     "data": {
      "text/plain": [
       "Loan_ID              0\n",
       "Gender               0\n",
       "Married              0\n",
       "Dependents           0\n",
       "Education            0\n",
       "Self_Employed        0\n",
       "ApplicantIncome      0\n",
       "CoapplicantIncome    0\n",
       "LoanAmount           0\n",
       "Loan_Amount_Term     0\n",
       "Credit_History       0\n",
       "Property_Area        0\n",
       "dtype: int64"
      ]
     },
     "execution_count": 311,
     "metadata": {},
     "output_type": "execute_result"
    }
   ],
   "source": [
    "pd_test.isnull().sum()"
   ]
  },
  {
   "cell_type": "markdown",
   "id": "dea4ddca",
   "metadata": {},
   "source": [
    "# Transforming data using log to normalize"
   ]
  },
  {
   "cell_type": "code",
   "execution_count": 312,
   "id": "8f22165e",
   "metadata": {},
   "outputs": [
    {
     "data": {
      "image/png": "[encoded data removed]",
      "text/plain": [
       "<Figure size 432x288 with 1 Axes>"
      ]
     },
     "metadata": {
      "needs_background": "light"
     },
     "output_type": "display_data"
    }
   ],
   "source": [
    "pd_train['LoanAmount_log']=np.log(pd_train['LoanAmount'])\n",
    "pd_train['LoanAmount_log'].hist(bins=20)\n",
    "pd_test['LoanAmount_log']=np.log(pd_test['LoanAmount'])"
   ]
  },
  {
   "cell_type": "markdown",
   "id": "c7144a97",
   "metadata": {},
   "source": [
    "Removing unnessary column"
   ]
  },
  {
   "cell_type": "code",
   "execution_count": 313,
   "id": "11dc66cf",
   "metadata": {},
   "outputs": [],
   "source": [
    "pd_train=pd_train.drop('Loan_ID',axis=1)\n",
    "pd_test=pd_test.drop('Loan_ID',axis=1)"
   ]
  },
  {
   "cell_type": "markdown",
   "id": "ffb7b225",
   "metadata": {},
   "source": [
    "Breaking data in X & y for training data set"
   ]
  },
  {
   "cell_type": "code",
   "execution_count": 314,
   "id": "435518da",
   "metadata": {},
   "outputs": [],
   "source": [
    "X=pd_train.drop('Loan_Status',1)\n",
    "y=pd_train['Loan_Status']"
   ]
  },
  {
   "cell_type": "markdown",
   "id": "a8898762",
   "metadata": {},
   "source": [
    "Using get_dummies to create dummies columns"
   ]
  },
  {
   "cell_type": "code",
   "execution_count": 315,
   "id": "c619dc44",
   "metadata": {},
   "outputs": [],
   "source": [
    "X=pd.get_dummies(X)"
   ]
  },
  {
   "cell_type": "code",
   "execution_count": 316,
   "id": "e1ccc077",
   "metadata": {},
   "outputs": [],
   "source": [
    "pd_train=pd.get_dummies(pd_train)\n",
    "pd_test=pd.get_dummies(pd_test)"
   ]
  },
  {
   "cell_type": "markdown",
   "id": "71f778fc",
   "metadata": {},
   "source": [
    "Using train test split to break data in train & test for training set"
   ]
  },
  {
   "cell_type": "code",
   "execution_count": 322,
   "id": "d5eb9959",
   "metadata": {},
   "outputs": [],
   "source": [
    "from sklearn.model_selection import train_test_split\n",
    "x_train,x_cv,y_train,y_cv=train_test_split(X,y,test_size=0.2)"
   ]
  },
  {
   "cell_type": "markdown",
   "id": "f2d0bffe",
   "metadata": {},
   "source": [
    "# Logistic regression"
   ]
  },
  {
   "cell_type": "code",
   "execution_count": 323,
   "id": "b339daea",
   "metadata": {},
   "outputs": [],
   "source": [
    "from sklearn.linear_model import LogisticRegression\n",
    "from sklearn.metrics import accuracy_score"
   ]
  },
  {
   "cell_type": "code",
   "execution_count": 324,
   "id": "3b53c7d9",
   "metadata": {},
   "outputs": [
    {
     "data": {
      "text/plain": [
       "LogisticRegression(C=0.05, multi_class='ovr', n_jobs=1, penalty='l1',\n",
       "                   random_state=1, solver='liblinear')"
      ]
     },
     "execution_count": 324,
     "metadata": {},
     "output_type": "execute_result"
    }
   ],
   "source": [
    "model=LogisticRegression()\n",
    "model.fit(x_train,y_train)\n",
    "LogisticRegression(C=0.05,class_weight=None,dual=False,fit_intercept=True,intercept_scaling=1,max_iter=100,multi_class='ovr',n_jobs=1,penalty='l1',random_state=1,solver='liblinear',tol=0.0001,verbose=0,warm_start=False)"
   ]
  },
  {
   "cell_type": "code",
   "execution_count": 325,
   "id": "ecc6ec19",
   "metadata": {},
   "outputs": [],
   "source": [
    "pred_cv=model.predict(x_cv)"
   ]
  },
  {
   "cell_type": "code",
   "execution_count": 326,
   "id": "2a832881",
   "metadata": {},
   "outputs": [
    {
     "data": {
      "text/plain": [
       "0.7886178861788617"
      ]
     },
     "execution_count": 326,
     "metadata": {},
     "output_type": "execute_result"
    }
   ],
   "source": [
    "accuracy_score(y_cv,pred_cv)"
   ]
  },
  {
   "cell_type": "code",
   "execution_count": 327,
   "id": "40dea154",
   "metadata": {},
   "outputs": [],
   "source": [
    "pred_test=model.predict(pd_test)"
   ]
  },
  {
   "cell_type": "code",
   "execution_count": 328,
   "id": "8539134f",
   "metadata": {},
   "outputs": [],
   "source": [
    "submission=pd.read_csv(\"D:\\\\Hackathon\\\\Loan Prediction\\\\sample_submission.csv\")\n",
    "submission['Loan_Status']=pred_test\n",
    "submission['Loan_Status'].replace(0,'N',inplace=True)\n",
    "submission['Loan_Status'].replace(1,'Y',inplace=True)\n",
    "pd.DataFrame(submission,columns=['Loan_ID','Loan_Status']).to_csv('logistic.csv')"
   ]
  },
  {
   "cell_type": "markdown",
   "id": "6af8ee3c",
   "metadata": {},
   "source": [
    "# Stratified K-fold cross validation"
   ]
  },
  {
   "cell_type": "code",
   "execution_count": 329,
   "id": "7173fb3c",
   "metadata": {},
   "outputs": [],
   "source": [
    "from sklearn.model_selection import StratifiedKFold"
   ]
  },
  {
   "cell_type": "code",
   "execution_count": 354,
   "id": "00099941",
   "metadata": {},
   "outputs": [
    {
     "name": "stdout",
     "output_type": "stream",
     "text": [
      "\n",
      "1 of kfold5\n",
      "\n",
      "1 of kfold5\n",
      "\n",
      "1 of kfold5\n",
      "\n",
      "1 of kfold5\n",
      "\n",
      "1 of kfold5\n",
      "accuracy_score 0.7950819672131147\n"
     ]
    }
   ],
   "source": [
    "i=1\n",
    "kf=StratifiedKFold(n_splits=5,random_state=1,shuffle=True)\n",
    "for train_index,test_index in kf.split(X,y): print('\\n{} of kfold{}'.format(i,kf.n_splits))\n",
    "xtr,xvl=X.iloc[train_index],X.iloc[test_index]\n",
    "ytr,yvl=y.iloc[train_index],y.iloc[test_index] \n",
    "model=LogisticRegression(random_state=1)\n",
    "model.fit(xtr,ytr)\n",
    "pred_test=model.predict(xvl)\n",
    "score=accuracy_score(yvl,pred_test)\n",
    "i+=1\n",
    "print('accuracy_score',score)\n",
    "pred_test=model.predict(pd_test)\n",
    "pred=model.predict_proba(xvl)[:,1]                                                                                    "
   ]
  },
  {
   "cell_type": "code",
   "execution_count": 331,
   "id": "e04cec44",
   "metadata": {},
   "outputs": [
    {
     "data": {
      "image/png": "[encoded data removed]",
      "text/plain": [
       "<Figure size 864x576 with 1 Axes>"
      ]
     },
     "metadata": {
      "needs_background": "light"
     },
     "output_type": "display_data"
    }
   ],
   "source": [
    "from sklearn import metrics \n",
    "fpr,tpr,_=metrics.roc_curve(yvl,pred)\n",
    "auc=metrics.roc_auc_score(yvl,pred)\n",
    "plt.figure(figsize=(12,8))\n",
    "plt.plot(fpr,tpr,label=\"validation,auc=\"+str(auc))\n",
    "plt.xlabel('False Positive Rate')\n",
    "plt.ylabel('True Positive Rate')\n",
    "plt.legend(loc=4)\n",
    "plt.show()"
   ]
  },
  {
   "cell_type": "code",
   "execution_count": 332,
   "id": "5051dd08",
   "metadata": {},
   "outputs": [],
   "source": [
    "submission['Loan_Status']=pred_test\n",
    "submission['Loan_Status'].replace(0,'N',inplace=True)\n",
    "submission['Loan_Status'].replace(1,'Y',inplace=True)\n",
    "pd.DataFrame(submission,columns=['Loan_ID','Loan_Status']).to_csv('logistic_CV.csv')"
   ]
  },
  {
   "cell_type": "markdown",
   "id": "10480f3f",
   "metadata": {},
   "source": [
    "Creating new columns and dropping old one"
   ]
  },
  {
   "cell_type": "code",
   "execution_count": 333,
   "id": "c5f89660",
   "metadata": {},
   "outputs": [],
   "source": [
    "pd_train['Total_Income']=pd_train['ApplicantIncome']+pd_train['CoapplicantIncome']\n",
    "pd_test['Total_Income']=pd_test['ApplicantIncome']+pd_test['CoapplicantIncome']"
   ]
  },
  {
   "cell_type": "code",
   "execution_count": 334,
   "id": "38d2ad1c",
   "metadata": {},
   "outputs": [
    {
     "data": {
      "text/plain": [
       "<AxesSubplot:xlabel='Total_Income', ylabel='Density'>"
      ]
     },
     "execution_count": 334,
     "metadata": {},
     "output_type": "execute_result"
    },
    {
     "data": {
      "image/png": "[encoded data removed]",
      "text/plain": [
       "<Figure size 432x288 with 1 Axes>"
      ]
     },
     "metadata": {
      "needs_background": "light"
     },
     "output_type": "display_data"
    }
   ],
   "source": [
    "sns.distplot(pd_train['Total_Income'])"
   ]
  },
  {
   "cell_type": "code",
   "execution_count": 335,
   "id": "ad3a1f44",
   "metadata": {},
   "outputs": [
    {
     "data": {
      "image/png": "[encoded data removed]",
      "text/plain": [
       "<Figure size 432x288 with 1 Axes>"
      ]
     },
     "metadata": {
      "needs_background": "light"
     },
     "output_type": "display_data"
    }
   ],
   "source": [
    "pd_train['Total_Income_log']=np.log(pd_train['Total_Income'])\n",
    "sns.distplot(pd_train['Total_Income_log'])\n",
    "pd_test['Total_Income_log']=np.log(pd_test['Total_Income'])"
   ]
  },
  {
   "cell_type": "code",
   "execution_count": 336,
   "id": "90691ab4",
   "metadata": {},
   "outputs": [],
   "source": [
    "pd_train['EMI']=pd_train['LoanAmount']/pd_train['Loan_Amount_Term']\n",
    "pd_test['EMI']=pd_test['LoanAmount']/pd_test['Loan_Amount_Term']"
   ]
  },
  {
   "cell_type": "code",
   "execution_count": 337,
   "id": "8299e3c3",
   "metadata": {},
   "outputs": [],
   "source": [
    "pd_train['Balance Income']=pd_train['Total_Income']-(pd_train['EMI']*1000)\n",
    "pd_test['Balance Income']=pd_test['Total_Income']-(pd_test['EMI']*1000)"
   ]
  },
  {
   "cell_type": "code",
   "execution_count": 338,
   "id": "224c5da5",
   "metadata": {},
   "outputs": [
    {
     "data": {
      "text/plain": [
       "<AxesSubplot:xlabel='Balance Income', ylabel='Density'>"
      ]
     },
     "execution_count": 338,
     "metadata": {},
     "output_type": "execute_result"
    },
    {
     "data": {
      "image/png": "[encoded data removed]",
      "text/plain": [
       "<Figure size 432x288 with 1 Axes>"
      ]
     },
     "metadata": {
      "needs_background": "light"
     },
     "output_type": "display_data"
    }
   ],
   "source": [
    "sns.distplot(pd_train['Balance Income'])"
   ]
  },
  {
   "cell_type": "code",
   "execution_count": 339,
   "id": "b59ba166",
   "metadata": {},
   "outputs": [],
   "source": [
    "pd_train=pd_train.drop(['ApplicantIncome','CoapplicantIncome','LoanAmount','Loan_Amount_Term'],axis=1)\n",
    "pd_test=pd_test.drop(['ApplicantIncome','CoapplicantIncome','LoanAmount','Loan_Amount_Term'],axis=1)"
   ]
  },
  {
   "cell_type": "markdown",
   "id": "62728236",
   "metadata": {},
   "source": [
    "# Decision Tree"
   ]
  },
  {
   "cell_type": "code",
   "execution_count": 151,
   "id": "8449ed35",
   "metadata": {},
   "outputs": [],
   "source": [
    "from sklearn import tree"
   ]
  },
  {
   "cell_type": "code",
   "execution_count": 356,
   "id": "0e64daa0",
   "metadata": {},
   "outputs": [
    {
     "name": "stdout",
     "output_type": "stream",
     "text": [
      "\n",
      "1 of kfold7\n",
      "\n",
      "1 of kfold7\n",
      "\n",
      "1 of kfold7\n",
      "\n",
      "1 of kfold7\n",
      "\n",
      "1 of kfold7\n",
      "\n",
      "1 of kfold7\n",
      "\n",
      "1 of kfold7\n",
      "accuracy_score 0.7931034482758621\n"
     ]
    }
   ],
   "source": [
    "kf=StratifiedKFold(n_splits=7,random_state=1,shuffle=True)\n",
    "i=1\n",
    "for train_index,test_index in kf.split(X,y):\n",
    "    print('\\n{} of kfold{}'.format(i,kf.n_splits))\n",
    "xtr,xvl=X.iloc[train_index],X.iloc[test_index]\n",
    "ytr,yvl=y[train_index],y[test_index] \n",
    "model=tree.DecisionTreeClassifier(random_state=1)\n",
    "model.fit(xtr,ytr)\n",
    "pred_test=model.predict(xvl)\n",
    "score=accuracy_score(yvl,pred_test)\n",
    "i+=1\n",
    "print('accuracy_score',score)\n",
    "pred_test=model.predict(pd_test)\n"
   ]
  },
  {
   "cell_type": "code",
   "execution_count": 355,
   "id": "3fdee544",
   "metadata": {},
   "outputs": [],
   "source": [
    "submission=pd.read_csv(\"D:\\\\Hackathon\\\\Loan Prediction\\\\sample_submission.csv\")\n",
    "submission['Loan_Status']=pred_test\n",
    "submission['Loan_Status'].replace(0,'N',inplace=True)\n",
    "submission['Loan_Status'].replace(1,'Y',inplace=True)\n",
    "pd.DataFrame(submission,columns=['Loan_ID','Loan_Status']).to_csv('Decision_Tree.csv')"
   ]
  },
  {
   "cell_type": "markdown",
   "id": "c0591cb0",
   "metadata": {},
   "source": [
    "# Random Forest"
   ]
  },
  {
   "cell_type": "code",
   "execution_count": 357,
   "id": "3e2f593f",
   "metadata": {},
   "outputs": [],
   "source": [
    "from sklearn.ensemble import RandomForestClassifier"
   ]
  },
  {
   "cell_type": "code",
   "execution_count": 362,
   "id": "365ba816",
   "metadata": {},
   "outputs": [
    {
     "name": "stdout",
     "output_type": "stream",
     "text": [
      "\n",
      "1 of kfold5\n",
      "\n",
      "1 of kfold5\n",
      "\n",
      "1 of kfold5\n",
      "\n",
      "1 of kfold5\n",
      "\n",
      "1 of kfold5\n",
      "accuracy_score 0.7377049180327869\n"
     ]
    }
   ],
   "source": [
    "i=1\n",
    "kf=StratifiedKFold(n_splits=5,random_state=1,shuffle=True)\n",
    "for train_index,test_index in kf.split(X,y):\n",
    "    print('\\n{} of kfold{}'.format(i,kf.n_splits))\n",
    "xtr,xvl=X.iloc[train_index],X.iloc[test_index]\n",
    "ytr,yvl=y[train_index],y[test_index] \n",
    "model=RandomForestClassifier(random_state=1)\n",
    "model.fit(xtr,ytr)\n",
    "pred_test=model.predict(xvl)\n",
    "score=accuracy_score(yvl,pred_test)\n",
    "print('accuracy_score',score)\n",
    "i+=1\n",
    "pred_test=model.predict(pd_test)"
   ]
  },
  {
   "cell_type": "markdown",
   "id": "02b2b1a7",
   "metadata": {},
   "source": [
    "# Using Grid Search"
   ]
  },
  {
   "cell_type": "code",
   "execution_count": 363,
   "id": "999c918d",
   "metadata": {},
   "outputs": [],
   "source": [
    "from sklearn.model_selection import GridSearchCV"
   ]
  },
  {
   "cell_type": "code",
   "execution_count": 364,
   "id": "7fdc3112",
   "metadata": {},
   "outputs": [],
   "source": [
    "paramgrid={'max_depth':list(range(1,20,1)),'n_estimators':list(range(1,200,10))}"
   ]
  },
  {
   "cell_type": "code",
   "execution_count": 365,
   "id": "267f7556",
   "metadata": {},
   "outputs": [],
   "source": [
    "grid_search=GridSearchCV(RandomForestClassifier(random_state=1),paramgrid)"
   ]
  },
  {
   "cell_type": "code",
   "execution_count": 367,
   "id": "59fff2bf",
   "metadata": {},
   "outputs": [
    {
     "name": "stdout",
     "output_type": "stream",
     "text": [
      "\n",
      "1 of kfold5\n",
      "\n",
      "1 of kfold5\n",
      "\n",
      "1 of kfold5\n",
      "\n",
      "1 of kfold5\n",
      "\n",
      "1 of kfold5\n",
      "accuracy_score 0.7950819672131147\n"
     ]
    }
   ],
   "source": [
    "i=1\n",
    "kf=StratifiedKFold(n_splits=5,random_state=1,shuffle=True)\n",
    "for train_index,test_index in kf.split(X,y):\n",
    "    print('\\n{} of kfold{}'.format(i,kf.n_splits))\n",
    "xtr,xvl=X.iloc[train_index],X.iloc[test_index]\n",
    "ytr,yvl=y[train_index],y[test_index] \n",
    "\n",
    "grid_search=GridSearchCV(RandomForestClassifier(random_state=1),paramgrid)\n",
    "grid_search.fit(xtr,ytr)\n",
    "pred_test=grid_search.predict(xvl)\n",
    "score=accuracy_score(yvl,pred_test)\n",
    "i+=1\n",
    "print('accuracy_score',score)\n",
    "pred_test=grid_search.predict(pd_test)"
   ]
  },
  {
   "cell_type": "code",
   "execution_count": 368,
   "id": "a9374d50",
   "metadata": {},
   "outputs": [],
   "source": [
    "submission=pd.read_csv(\"D:\\\\Hackathon\\\\Loan Prediction\\\\sample_submission.csv\")\n",
    "submission['Loan_Status']=pred_test\n",
    "submission['Loan_Status'].replace(0,'N',inplace=True)\n",
    "submission['Loan_Status'].replace(1,'Y',inplace=True)\n",
    "pd.DataFrame(submission,columns=['Loan_ID','Loan_Status']).to_csv('logistic_GCVj.csv')"
   ]
  },
  {
   "cell_type": "markdown",
   "id": "d5b9284d",
   "metadata": {},
   "source": [
    "Fixed Numbers"
   ]
  },
  {
   "cell_type": "code",
   "execution_count": 369,
   "id": "8e7e636a",
   "metadata": {},
   "outputs": [],
   "source": [
    "from sklearn.model_selection import train_test_split\n",
    "X=pd_train.drop('Loan_Status',1)\n",
    "y=pd_train['Loan_Status']\n",
    "x_train,x_cv,y_train,y_cv = train_test_split(X,y,test_size=0.2,random_state=1)"
   ]
  },
  {
   "cell_type": "code",
   "execution_count": 370,
   "id": "a39fab43",
   "metadata": {},
   "outputs": [
    {
     "data": {
      "text/plain": [
       "GridSearchCV(error_score='raise',\n",
       "             estimator=RandomForestClassifier(n_estimators=10, n_jobs=1,\n",
       "                                              random_state=1),\n",
       "             n_jobs=1,\n",
       "             param_grid={'max_depth': [1, 3, 5, 7, 9, 11, 13, 15, 17, 19],\n",
       "                         'n_estimators': [1, 21, 31, 41, 51, 61, 81, 101, 121,\n",
       "                                          141, 161, 181]},\n",
       "             return_train_score='warn')"
      ]
     },
     "execution_count": 370,
     "metadata": {},
     "output_type": "execute_result"
    }
   ],
   "source": [
    "grid_search.fit(x_train,y_train)\n",
    "GridSearchCV(cv=None,error_score='raise',estimator=RandomForestClassifier(bootstrap=True,class_weight=None,criterion='gini',max_depth=None,max_features='auto',max_leaf_nodes=None,\n",
    "            min_impurity_decrease=0.0,min_impurity_split=None,min_samples_leaf=1,min_samples_split=2,min_weight_fraction_leaf=0.0,\n",
    "            n_estimators=10,n_jobs=1,oob_score=False,random_state=1,warm_start=False),n_jobs=1,\n",
    "            param_grid={'max_depth':[1,3,5,7,9,11,13,15,17,19],'n_estimators':[1,21,31,41,51,61,81,101,121,141,161,181]},pre_dispatch='2*n_jobs',\n",
    "             refit=True,return_train_score='warn',scoring=None)"
   ]
  },
  {
   "cell_type": "code",
   "execution_count": 371,
   "id": "a48508ae",
   "metadata": {},
   "outputs": [
    {
     "data": {
      "text/plain": [
       "RandomForestClassifier(max_depth=3, n_estimators=151, random_state=1)"
      ]
     },
     "execution_count": 371,
     "metadata": {},
     "output_type": "execute_result"
    }
   ],
   "source": [
    "grid_search.best_estimator_"
   ]
  },
  {
   "cell_type": "code",
   "execution_count": 372,
   "id": "e13a878b",
   "metadata": {},
   "outputs": [
    {
     "name": "stdout",
     "output_type": "stream",
     "text": [
      "\n",
      "1 of kfold5\n",
      "\n",
      "1 of kfold5\n",
      "\n",
      "1 of kfold5\n",
      "\n",
      "1 of kfold5\n",
      "\n",
      "1 of kfold5\n",
      "accuracy_score 0.7950819672131147\n"
     ]
    }
   ],
   "source": [
    "i=1\n",
    "kf=StratifiedKFold(n_splits=5,random_state=1,shuffle=True)\n",
    "for train_index,test_index in kf.split(X,y):\n",
    "    print('\\n{} of kfold{}'.format(i,kf.n_splits))\n",
    "xtr,xvl=X.iloc[train_index],X.iloc[test_index]\n",
    "ytr,yvl=y[train_index],y[test_index] \n",
    "\n",
    "grid_search=RandomForestClassifier(random_state=1,max_depth=3,n_estimators=151)\n",
    "grid_search.fit(xtr,ytr)\n",
    "pred_test=grid_search.predict(xvl)\n",
    "score=accuracy_score(yvl,pred_test)\n",
    "print('accuracy_score',score)\n",
    "i+=1\n",
    "pred_test=grid_search.predict(pd_test)\n",
    "pred2=model.predict_proba(pd_test)[:,1]"
   ]
  },
  {
   "cell_type": "code",
   "execution_count": 373,
   "id": "ccb9b0ef",
   "metadata": {},
   "outputs": [],
   "source": [
    "submission=pd.read_csv(\"D:\\\\Hackathon\\\\Loan Prediction\\\\sample_submission.csv\")\n",
    "submission['Loan_Status']=pred_test\n",
    "submission['Loan_Status'].replace(0,'N',inplace=True)\n",
    "submission['Loan_Status'].replace(1,'Y',inplace=True)\n",
    "pd.DataFrame(submission,columns=['Loan_ID','Loan_Status']).to_csv('logistic_GCVjm.csv')"
   ]
  },
  {
   "cell_type": "markdown",
   "id": "120a26cd",
   "metadata": {},
   "source": [
    "Check important features"
   ]
  },
  {
   "cell_type": "code",
   "execution_count": 374,
   "id": "745ee4f7",
   "metadata": {},
   "outputs": [
    {
     "data": {
      "text/plain": [
       "<AxesSubplot:>"
      ]
     },
     "execution_count": 374,
     "metadata": {},
     "output_type": "execute_result"
    },
    {
     "data": {
      "image/png": "[encoded data removed]",
      "text/plain": [
       "<Figure size 864x576 with 1 Axes>"
      ]
     },
     "metadata": {
      "needs_background": "light"
     },
     "output_type": "display_data"
    }
   ],
   "source": [
    "importances=pd.Series(model.feature_importances_,index=X.columns)\n",
    "importances.plot(kind='barh',figsize=(12,8))"
   ]
  },
  {
   "cell_type": "markdown",
   "id": "4a34fca7",
   "metadata": {},
   "source": [
    "# XGBoost"
   ]
  },
  {
   "cell_type": "code",
   "execution_count": 375,
   "id": "6976ab91",
   "metadata": {},
   "outputs": [],
   "source": [
    "from xgboost import XGBClassifier"
   ]
  },
  {
   "cell_type": "code",
   "execution_count": 384,
   "id": "4082c52e",
   "metadata": {},
   "outputs": [
    {
     "name": "stdout",
     "output_type": "stream",
     "text": [
      "\n",
      "1 of kfold5\n",
      "\n",
      "1 of kfold5\n",
      "\n",
      "1 of kfold5\n",
      "\n",
      "1 of kfold5\n",
      "\n",
      "1 of kfold5\n",
      "[22:24:21] WARNING: C:\\Windows\\Temp\\abs_557yfx631l\\croots\\recipe\\xgboost-split_1659548953302\\work\\src\\learner.cc:1115: Starting in XGBoost 1.3.0, the default evaluation metric used with the objective 'binary:logistic' was changed from 'error' to 'logloss'. Explicitly set eval_metric if you'd like to restore the old behavior.\n",
      "accuracy_score 0.8032786885245902\n"
     ]
    }
   ],
   "source": [
    "i=1\n",
    "kf=StratifiedKFold(n_splits=5\n",
    "                   ,random_state=1,shuffle=True)\n",
    "for train_index,test_index in kf.split(X,y):\n",
    "    print('\\n{} of kfold{}'.format(i,kf.n_splits))\n",
    "xtr,xvl=X.iloc[train_index],X.iloc[test_index]\n",
    "ytr,yvl=y[train_index],y[test_index] \n",
    "\n",
    "xgb=XGBClassifier(max_depth=3,n_estimators=32)\n",
    "xgb.fit(xtr,ytr)\n",
    "pred_test=xgb.predict(xvl)\n",
    "score=accuracy_score(yvl,pred_test)\n",
    "print('accuracy_score',score)\n",
    "i+=1\n",
    "pred_test=xgb.predict(pd_test)\n",
    "pred3=xgb.predict_proba(pd_test)[:,1]"
   ]
  },
  {
   "cell_type": "code",
   "execution_count": 385,
   "id": "0bcda2bf",
   "metadata": {},
   "outputs": [],
   "source": [
    "submission=pd.read_csv(\"D:\\\\Hackathon\\\\Loan Prediction\\\\sample_submission.csv\")\n",
    "submission['Loan_Status']=pred_test\n",
    "submission['Loan_Status'].replace(0,'N',inplace=True)\n",
    "submission['Loan_Status'].replace(1,'Y',inplace=True)\n",
    "pd.DataFrame(submission,columns=['Loan_ID','Loan_Status']).to_csv('logistic_xgb.csv')"
   ]
  },
  {
   "cell_type": "code",
   "execution_count": null,
   "id": "e2263d83",
   "metadata": {},
   "outputs": [],
   "source": []
  }
 ],
 "metadata": {
  "kernelspec": {
   "display_name": "Python 3 (ipykernel)",
   "language": "python",
   "name": "python3"
  },
  "language_info": {
   "codemirror_mode": {
    "name": "ipython",
    "version": 3
   },
   "file_extension": ".py",
   "mimetype": "text/x-python",
   "name": "python",
   "nbconvert_exporter": "python",
   "pygments_lexer": "ipython3",
   "version": "3.9.7"
  }
 },
 "nbformat": 4,
 "nbformat_minor": 5
}
